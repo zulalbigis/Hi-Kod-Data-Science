{
 "cells": [
  {
   "cell_type": "markdown",
   "metadata": {},
   "source": [
    "### Ödev 1\n",
    "\n",
    "Bir sözlük oluşturulur ve bu sözlükte öğrencilerin isimleri ve Matematik, Fizik, Kimya notları tutulur. Kullanıcıdan isim ve ders ismi(Matematik, Fizik, Kimya) istenir ve bu bilgilere göre çıktı verilir."
   ]
  },
  {
   "cell_type": "code",
   "execution_count": 3,
   "metadata": {},
   "outputs": [
    {
     "name": "stdout",
     "output_type": "stream",
     "text": [
      "97\n"
     ]
    }
   ],
   "source": [
    "sınıf_sınav_notları = { \"zülal bigiş\" : {\"Matematik\": \"97\",\n",
    "                                         \"Kimya\" : \"84\",\n",
    "                                         \"Fizik\": \"98\"},\n",
    "\n",
    "                        \"zeynep yılmaz\": {\"Matematik\": \"93\",\n",
    "                                         \"Kimya\": \"96\",\n",
    "                                         \"Fizik\": \"100\"},\n",
    "\n",
    "                        \"sabahattin çalışkan\": {\"Matematik\": \"100\",\n",
    "                                         \"Kimya\": \"96\",\n",
    "                                         \"Fizik\": \"89\"},\n",
    "\n",
    "                        \"ali uğur\": {\"Matematik\": \"96\",\n",
    "                                         \"Kimya\": \"81\",\n",
    "                                         \"Fizik\": \"67\"}}\n",
    "\n",
    "ogrenci_isim = input(\"Öğrencinin ismini giriniz: \")\n",
    "ders_isim = input(\"Ders ismi giriniz: \")\n",
    "\n",
    "print(sınıf_sınav_notları[ogrenci_isim][ders_isim])"
   ]
  },
  {
   "cell_type": "markdown",
   "metadata": {},
   "source": [
    "### Ödev 2\n",
    "\n",
    "Sözlük üzerinde değerleri değiştirme, yeni değer ekleme, kullanıcıya ulaşmak istediği bilgileri sorma gibi uygulamalar yapın."
   ]
  },
  {
   "cell_type": "code",
   "execution_count": 6,
   "metadata": {},
   "outputs": [
    {
     "data": {
      "text/plain": [
       "{'zülal bigiş': {'Matematik': '97', 'Kimya': '84', 'Fizik': '67'},\n",
       " 'zeynep yılmaz': {'Matematik': '93', 'Kimya': '96', 'Fizik': '100'},\n",
       " 'sabahattin çalışkan': {'Matematik': '100', 'Kimya': '96', 'Fizik': '89'},\n",
       " 'ali uğur': {'Matematik': '96', 'Kimya': '81', 'Fizik': '67'}}"
      ]
     },
     "execution_count": 6,
     "metadata": {},
     "output_type": "execute_result"
    }
   ],
   "source": [
    "sınıf_sınav_notları[\"zülal bigiş\"][\"Fizik\"] = \"67\"\n",
    "\n",
    "sınıf_sınav_notları"
   ]
  },
  {
   "cell_type": "code",
   "execution_count": 8,
   "metadata": {},
   "outputs": [
    {
     "data": {
      "text/plain": [
       "{'zülal bigiş': {'Matematik': '97', 'Kimya': '84', 'Fizik': '67'},\n",
       " 'zeynep yılmaz': {'Matematik': '93', 'Kimya': '96', 'Fizik': '100'},\n",
       " 'sabahattin çalışkan': {'Matematik': '100', 'Kimya': '96', 'Fizik': '89'},\n",
       " 'ali uğur': {'Matematik': '96', 'Kimya': '81', 'Fizik': '67'},\n",
       " 'ayşe altan': {'Matematik': '66', 'Kimya': '71', 'Fizik': '49'}}"
      ]
     },
     "execution_count": 8,
     "metadata": {},
     "output_type": "execute_result"
    }
   ],
   "source": [
    "sınıf_sınav_notları[\"ayşe altan\"] = {\"Matematik\": \"66\",\n",
    "                                         \"Kimya\": \"71\",\n",
    "                                         \"Fizik\": \"49\"}\n",
    "\n",
    "sınıf_sınav_notları"
   ]
  },
  {
   "cell_type": "code",
   "execution_count": 9,
   "metadata": {},
   "outputs": [
    {
     "name": "stdout",
     "output_type": "stream",
     "text": [
      "67\n"
     ]
    }
   ],
   "source": [
    "ogrenci_isim = input(\"Öğrencinin ismini giriniz: \")\n",
    "\n",
    "bilgi = input(\"Hangi dersin notunu öğrenmek istiyorsunuz?: \")\n",
    "\n",
    "print(sınıf_sınav_notları[ogrenci_isim][bilgi])"
   ]
  }
 ],
 "metadata": {
  "kernelspec": {
   "display_name": "base",
   "language": "python",
   "name": "python3"
  },
  "language_info": {
   "codemirror_mode": {
    "name": "ipython",
    "version": 3
   },
   "file_extension": ".py",
   "mimetype": "text/x-python",
   "name": "python",
   "nbconvert_exporter": "python",
   "pygments_lexer": "ipython3",
   "version": "3.11.3"
  }
 },
 "nbformat": 4,
 "nbformat_minor": 2
}
