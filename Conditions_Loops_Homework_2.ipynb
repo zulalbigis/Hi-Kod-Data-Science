{
 "cells": [
  {
   "cell_type": "markdown",
   "id": "409f0f4a",
   "metadata": {},
   "source": [
    "**Ödev-1:** Kullanıcıdan maaş bilgisini istenir ve bu bilgiye göre maaşından ne kadar vergi kesileceğini hesaplanır. Kullanıcının geliri;\n",
    "\n",
    "1. 10000 ve altındaysa maaşından %5 kesinti olur.\n",
    "2. 25000 ve altındaysa maaşından %10 kesinti olur.\n",
    "3. 45000 ve altındaysa maaşından %25 kesinti olur.\n",
    "4. Diğer koşullarda %30 kesinti olur.\n",
    "\n",
    "Bu durumlara göre kullanıcının yeni maaşı yazdırılır."
   ]
  },
  {
   "cell_type": "code",
   "execution_count": 7,
   "id": "5246e510",
   "metadata": {},
   "outputs": [
    {
     "name": "stdout",
     "output_type": "stream",
     "text": [
      "Yeni maaşınız:  4750.0\n"
     ]
    }
   ],
   "source": [
    "maas = int(input(\"Maaşınızı giriniz: \"))\n",
    "\n",
    "if maas <= 10000:\n",
    "    yeni_maas = maas - ((maas * 5)/100) \n",
    "    print(\"Yeni maaşınız: \", yeni_maas)\n",
    "elif maas <= 25000:\n",
    "    yeni_maas = maas - ((maas * 10)/100)\n",
    "    print(\"Yeni maaşınız: \", yeni_maas)\n",
    "elif maas <= 45000:\n",
    "    yeni_maas = maas - ((maas * 25)/100)\n",
    "    print(\"Yeni maaşınız: \", yeni_maas)\n",
    "else:\n",
    "    yeni_maas = maas - ((maas * 30)/100)\n",
    "    print(\"Yeni maaşınız: \", yeni_maas)"
   ]
  },
  {
   "cell_type": "markdown",
   "id": "f5fe8798",
   "metadata": {},
   "source": [
    "**Ödev-2:** Kullanıcıdan kullanıcı adı ve şifre oluşturmasını istenir. Şifrenin uzunluğu altı haneye ulaşmışsa hesabınız oluşturuldu mesajı alınır, altı haneden azsa altı haneli şifre oluşturması gerektiğinin mesajı alınır. *(Sadece koşul kullanılması yeterli.)*"
   ]
  },
  {
   "cell_type": "code",
   "execution_count": 8,
   "id": "6acffe57",
   "metadata": {},
   "outputs": [
    {
     "name": "stdout",
     "output_type": "stream",
     "text": [
      "Hesabınız oluşturuldu.\n"
     ]
    }
   ],
   "source": [
    "kullanici_adı = input(\"Kullanıcı adı giriniz: \")\n",
    "sifre = input(\"Şifre giriniz: \")\n",
    "\n",
    "if len(sifre) == 6:\n",
    "    print(\"Hesabınız oluşturuldu.\")\n",
    "elif len(sifre) < 6:\n",
    "    print(\"Lütfen 6 haneli şifre belirleyiniz!\")"
   ]
  },
  {
   "cell_type": "markdown",
   "id": "aaccf11a",
   "metadata": {},
   "source": [
    "**Ödev-3:** Bir önceki örnek geliştirilir.\n",
    "\n",
    "1. Kullanıcı girdiği şifre 5 ve 10 hane arasında olmak zorunda.\n",
    "2. Eğer bu koşula uyuyorsa \"Hesabınız oluşturuldu.\" mesajı alır.\n",
    "3. Koşulu sağlamıyorsa \"Lütfen girdiniz şifre 5 haneden az 10 haneden fazla olmasın!\" uyarısı alır.\n",
    "4. Bunu oluştururken kullanıcı istediğimiz şartlarda şifre oluşturana kadar sormaya devam eder"
   ]
  },
  {
   "cell_type": "code",
   "execution_count": 11,
   "id": "039e50dc",
   "metadata": {},
   "outputs": [
    {
     "name": "stdout",
     "output_type": "stream",
     "text": [
      "Lütfen girdiğiniz şifre 5 haneden az 10 haneden fazla olmasın!\n",
      "Hesabınız oluşturuldu!\n"
     ]
    }
   ],
   "source": [
    "key = 1\n",
    "\n",
    "while key == 1:\n",
    "    kullanici_adı = input(\"Kullanıcı adı giriniz: \")\n",
    "    sifre = input(\"Şifre giriniz: \")\n",
    "    if 5 <= len(sifre) <= 10: \n",
    "        print(\"Hesabınız oluşturuldu!\")\n",
    "        break\n",
    "    else: \n",
    "        print(\"Lütfen girdiğiniz şifre 5 haneden az 10 haneden fazla olmasın!\")\n"
   ]
  },
  {
   "cell_type": "markdown",
   "id": "8ba81863",
   "metadata": {},
   "source": [
    "**Ödev-4:** Kullanıcıdan isim ve şifre isteyeceğiz ve şifre girişi için üç hak verilir.\n",
    "\n",
    "1. Eğer önceden tanımlı şifre ile kullanıcıdan gelen şifre aynıysa \"Giriş yapıldı.\" yazar.\n",
    "2. Şifre girişi yanlışsa \"Yanlış şifre girildi!\" uyarısı verilsin ve üç yanlış denemede program biter.\n",
    "3. Tercihe göre kalan hak bilgisi verilir."
   ]
  },
  {
   "cell_type": "code",
   "execution_count": 14,
   "id": "8f45ea0c",
   "metadata": {},
   "outputs": [
    {
     "name": "stdout",
     "output_type": "stream",
     "text": [
      "Yanlış şifre girildi! Kalan hak:  2\n",
      "Yanlış şifre girildi! Kalan hak:  1\n",
      "Yanlış şifre girildi! Kalan hak:  0\n"
     ]
    }
   ],
   "source": [
    "kullanici_adim = \"zulalbigis\"\n",
    "sifrem = \"12345\"\n",
    "\n",
    "giris_hakki = 3\n",
    "giris_sayisi = 0\n",
    "\n",
    "while giris_sayisi >= 0:\n",
    "    kullanici_adi = input(\"Kullanıcı adınızı giriniz: \")\n",
    "    sifre = input(\"Şifrenizi giriniz: \")\n",
    "\n",
    "    if kullanici_adi == kullanici_adim and sifre == sifrem:\n",
    "        print(\"Giriş yapıldı.\")\n",
    "        break\n",
    "    else:\n",
    "        giris_sayisi += 1\n",
    "        kalan_hak = giris_hakki - giris_sayisi\n",
    "        print(\"Yanlış kullancı adı veya şifre girildi! Kalan hak: \", kalan_hak)\n",
    "        if giris_sayisi == 3:\n",
    "            break"
   ]
  }
 ],
 "metadata": {
  "kernelspec": {
   "display_name": "base",
   "language": "python",
   "name": "python3"
  },
  "language_info": {
   "codemirror_mode": {
    "name": "ipython",
    "version": 3
   },
   "file_extension": ".py",
   "mimetype": "text/x-python",
   "name": "python",
   "nbconvert_exporter": "python",
   "pygments_lexer": "ipython3",
   "version": "3.11.3"
  }
 },
 "nbformat": 4,
 "nbformat_minor": 5
}
