{
 "cells": [
  {
   "cell_type": "markdown",
   "id": "032d81b2",
   "metadata": {},
   "source": [
    "# 1\n",
    "x = 3 ----> floata çevirelim. Çevirdikten sonra beri tipinide yazdıralım.\n",
    "\n",
    "y = 4.5 -----> integere çevirelim. Çevirdikten sonra beri tipinide yazdıralım.\n",
    "\n",
    "z = \"8\" -----> integera çevirelim. Çevirdikten sonra beri tipinide yazdıralım.\n",
    "\n",
    "a = \"12\" -----> floata çevirelim. Çevirdikten sonra beri tipinide yazdıralım.\n",
    "\n",
    "b = \"46.8\" ------> integera çevirelim. Çevirdikten sonra beri tipinide yazdıralım."
   ]
  },
  {
   "cell_type": "code",
   "execution_count": 10,
   "id": "f1b735c0",
   "metadata": {},
   "outputs": [
    {
     "name": "stdout",
     "output_type": "stream",
     "text": [
      "3.0\n"
     ]
    },
    {
     "data": {
      "text/plain": [
       "float"
      ]
     },
     "execution_count": 10,
     "metadata": {},
     "output_type": "execute_result"
    }
   ],
   "source": [
    "x = float(3)\n",
    "print(x)\n",
    "type(x)"
   ]
  },
  {
   "cell_type": "code",
   "execution_count": 12,
   "id": "190f6a52",
   "metadata": {},
   "outputs": [
    {
     "name": "stdout",
     "output_type": "stream",
     "text": [
      "4\n"
     ]
    },
    {
     "data": {
      "text/plain": [
       "int"
      ]
     },
     "execution_count": 12,
     "metadata": {},
     "output_type": "execute_result"
    }
   ],
   "source": [
    "y = int(4.5)\n",
    "print(y)\n",
    "type(y)"
   ]
  },
  {
   "cell_type": "code",
   "execution_count": 14,
   "id": "c5bf2b8d",
   "metadata": {},
   "outputs": [
    {
     "name": "stdout",
     "output_type": "stream",
     "text": [
      "8\n"
     ]
    },
    {
     "data": {
      "text/plain": [
       "int"
      ]
     },
     "execution_count": 14,
     "metadata": {},
     "output_type": "execute_result"
    }
   ],
   "source": [
    "z = int(8)\n",
    "print(z)\n",
    "type(z)"
   ]
  },
  {
   "cell_type": "code",
   "execution_count": 16,
   "id": "3997da48",
   "metadata": {},
   "outputs": [
    {
     "name": "stdout",
     "output_type": "stream",
     "text": [
      "12.0\n"
     ]
    },
    {
     "data": {
      "text/plain": [
       "float"
      ]
     },
     "execution_count": 16,
     "metadata": {},
     "output_type": "execute_result"
    }
   ],
   "source": [
    "a = float(12)\n",
    "print(a)\n",
    "type(a)"
   ]
  },
  {
   "cell_type": "code",
   "execution_count": 17,
   "id": "570dc811",
   "metadata": {},
   "outputs": [
    {
     "name": "stdout",
     "output_type": "stream",
     "text": [
      "46\n"
     ]
    },
    {
     "data": {
      "text/plain": [
       "int"
      ]
     },
     "execution_count": 17,
     "metadata": {},
     "output_type": "execute_result"
    }
   ],
   "source": [
    "b = int(46.8)\n",
    "print(b)\n",
    "type(b)"
   ]
  },
  {
   "cell_type": "markdown",
   "id": "95509718",
   "metadata": {},
   "source": [
    "# 2 \n",
    "İsimlerden oluşan üç değişkene yaş değerleri atanır. Belirlenen üç değişken birbiriyle karşılaştırma operatörleri ile karşılaştırılır. Bu karşılaştırmalara mantıksal operatörler de eklenir."
   ]
  },
  {
   "cell_type": "code",
   "execution_count": 19,
   "id": "50f77b4f",
   "metadata": {},
   "outputs": [],
   "source": [
    "ali = 28\n",
    "zeynep = 17\n",
    "simge = 23"
   ]
  },
  {
   "cell_type": "code",
   "execution_count": 22,
   "id": "ae2de9d8",
   "metadata": {},
   "outputs": [
    {
     "data": {
      "text/plain": [
       "True"
      ]
     },
     "execution_count": 22,
     "metadata": {},
     "output_type": "execute_result"
    }
   ],
   "source": [
    "ali >= zeynep and simge != zeynep "
   ]
  },
  {
   "cell_type": "code",
   "execution_count": 24,
   "id": "3b53a02b",
   "metadata": {},
   "outputs": [
    {
     "data": {
      "text/plain": [
       "True"
      ]
     },
     "execution_count": 24,
     "metadata": {},
     "output_type": "execute_result"
    }
   ],
   "source": [
    "ali < simge or simge >= zeynep"
   ]
  },
  {
   "cell_type": "code",
   "execution_count": 25,
   "id": "78161870",
   "metadata": {},
   "outputs": [
    {
     "data": {
      "text/plain": [
       "False"
      ]
     },
     "execution_count": 25,
     "metadata": {},
     "output_type": "execute_result"
    }
   ],
   "source": [
    "not(zeynep <= ali and ali != simge)"
   ]
  },
  {
   "cell_type": "markdown",
   "id": "a1a0eb92",
   "metadata": {},
   "source": [
    "# 3\n",
    "Kullanıcıdan iki değer girmesini istenir. Girilen değerlerin toplama, çıkarma, çarpma, bölme sonuçlarını yazdırılır."
   ]
  },
  {
   "cell_type": "code",
   "execution_count": 58,
   "id": "c361e45a",
   "metadata": {},
   "outputs": [
    {
     "name": "stdout",
     "output_type": "stream",
     "text": [
      "Toplam:  14\n",
      "Çıkarma:  -4\n",
      "Çarpım:  45\n",
      "Bölüm:  0.5555555555555556\n"
     ]
    }
   ],
   "source": [
    "sayı1 = input(\"Birinci sayıyı giriniz: \")\n",
    "sayı2 = input(\"İkinci sayıyı giriniz: \")\n",
    "\n",
    "toplama_islemi = int(sayı1) + int(sayı2)\n",
    "cıkarma_islemi = int(sayı1) - int(sayı2)\n",
    "carpma_islemi = int(sayı1) * int(sayı2)\n",
    "bölme_islemi = int(sayı1) / int(sayı2)\n",
    "\n",
    "print(\"Toplam: \", toplama_islemi)\n",
    "print(\"Çıkarma: \", cıkarma_islemi)\n",
    "print(\"Çarpım: \", carpma_islemi)\n",
    "print(\"Bölüm: \", bölme_islemi)"
   ]
  },
  {
   "cell_type": "markdown",
   "id": "060b0bea",
   "metadata": {},
   "source": [
    "# 4\n",
    "Kullanıcıdan isim, yaş, şehir ve meslek bilgilerini istenir ve cevaplarını yazdırılır."
   ]
  },
  {
   "cell_type": "code",
   "execution_count": 33,
   "id": "6f5dea59",
   "metadata": {},
   "outputs": [
    {
     "name": "stdout",
     "output_type": "stream",
     "text": [
      "Zülal\n",
      "25\n",
      "İzmir\n",
      "Biyolog\n"
     ]
    }
   ],
   "source": [
    "isim = input(\"İsminiz: \")\n",
    "yas = input(\"Yaşınız: \")\n",
    "sehir = input(\"Yaşadığınız şehir: \")\n",
    "meslek = input(\"Mesleğiniz: \")\n",
    "\n",
    "print(isim) \n",
    "print(yas)\n",
    "print(sehir)\n",
    "print(meslek)"
   ]
  },
  {
   "cell_type": "markdown",
   "id": "55e1a34e",
   "metadata": {},
   "source": [
    "# 5     \n",
    "\"Hi-Kod Veri Bilimi Atölyesi\" ifadesini bir değişkene tanımlanır.\n",
    "\n",
    "\n",
    " 1. İfadedeki her bir kelimeyi (\"Hi-Kod\", \"Veri\", \"Bilimi\", \"Atölyesi\") değişken içinden seçilir. \n",
    " 2. İfadeyi hepsini büyük harf olacak hale çevrilir. (\"HI-KOD VERİ BİLİMİ ATÖLYESİ\") \n",
    " 3. İfadeyi hepsini büyük harf olacak hale çevrilir.(\"hi-kod veri bilimi atölyesi\") \n",
    "\n",
    "\"0123456789\" ifadesindeki yalnızca çift sayıları ve yalnızca tek sayıları seçilir. (\"02468\", \"13579\")"
   ]
  },
  {
   "cell_type": "code",
   "execution_count": 34,
   "id": "0fc1bc40",
   "metadata": {},
   "outputs": [],
   "source": [
    "assignment = \"Hi-Kod Veri Bilimi Atölyesi\""
   ]
  },
  {
   "cell_type": "code",
   "execution_count": 55,
   "id": "f88ca02f",
   "metadata": {},
   "outputs": [
    {
     "name": "stdout",
     "output_type": "stream",
     "text": [
      "Hi-Kod\n",
      "Veri\n",
      "Bilimi\n",
      "Atölyesi\n"
     ]
    }
   ],
   "source": [
    "print(assignment[0:6])\n",
    "print(assignment[7:11])\n",
    "print(assignment[12:18])\n",
    "print(assignment[19:27])"
   ]
  },
  {
   "cell_type": "code",
   "execution_count": 45,
   "id": "ff0e79a1",
   "metadata": {},
   "outputs": [
    {
     "data": {
      "text/plain": [
       "'HI-KOD VERI BILIMI ATÖLYESI'"
      ]
     },
     "execution_count": 45,
     "metadata": {},
     "output_type": "execute_result"
    }
   ],
   "source": [
    "assignment_2 = assignment.upper()\n",
    "assignment_2\n"
   ]
  },
  {
   "cell_type": "code",
   "execution_count": 47,
   "id": "0c881a0e",
   "metadata": {},
   "outputs": [
    {
     "data": {
      "text/plain": [
       "'hi-kod veri bilimi atölyesi'"
      ]
     },
     "execution_count": 47,
     "metadata": {},
     "output_type": "execute_result"
    }
   ],
   "source": [
    "assignment_3 = assignment_2.lower()\n",
    "assignment_3"
   ]
  },
  {
   "cell_type": "code",
   "execution_count": 54,
   "id": "08b5b198",
   "metadata": {},
   "outputs": [
    {
     "name": "stdout",
     "output_type": "stream",
     "text": [
      "02468\n",
      "13579\n"
     ]
    }
   ],
   "source": [
    "numbers = \"0123456789\"\n",
    "\n",
    "even_numbers = numbers[::2]\n",
    "odd_numbers = numbers[1 ::2]\n",
    "print(even_numbers)\n",
    "print(odd_numbers)\n"
   ]
  }
 ],
 "metadata": {
  "kernelspec": {
   "display_name": "base",
   "language": "python",
   "name": "python3"
  },
  "language_info": {
   "codemirror_mode": {
    "name": "ipython",
    "version": 3
   },
   "file_extension": ".py",
   "mimetype": "text/x-python",
   "name": "python",
   "nbconvert_exporter": "python",
   "pygments_lexer": "ipython3",
   "version": "3.11.3"
  }
 },
 "nbformat": 4,
 "nbformat_minor": 5
}
