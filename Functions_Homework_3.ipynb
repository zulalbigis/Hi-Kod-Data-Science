{
 "cells": [
  {
   "cell_type": "markdown",
   "metadata": {},
   "source": [
    "#### Ödev 1\n",
    "Kullanıcıdan pi değeri ve yarıçap bilgisi alarak dairenin alanını hesaplayan bir fonksiyon oluşturulur."
   ]
  },
  {
   "cell_type": "code",
   "execution_count": 2,
   "metadata": {},
   "outputs": [
    {
     "name": "stdout",
     "output_type": "stream",
     "text": [
      "Dairenin alanı 28.26\n"
     ]
    }
   ],
   "source": [
    "def daire_alani_bul(pi, yaricap): \n",
    "    sonuc = pi * (yaricap**2)\n",
    "    print(f\"Dairenin alanı {sonuc}\")\n",
    "\n",
    "pi = float(input(\"Pi sayısını giriniz: \"))\n",
    "yaricap = float(input(\"Yarıçap giriniz: \"))\n",
    "daire_alani_bul(pi, yaricap)"
   ]
  },
  {
   "cell_type": "markdown",
   "metadata": {},
   "source": [
    "#### Ödev 2\n",
    "\n",
    "Faktöriyel adında fonksiyon oluşturulur. Döngü kullanarak parametre olarak girilen sayının faktöriyeli hesaplanır. Format metodunu kullanılarak ekrana yazdırılır."
   ]
  },
  {
   "cell_type": "code",
   "execution_count": 11,
   "metadata": {},
   "outputs": [
    {
     "name": "stdout",
     "output_type": "stream",
     "text": [
      "5 sayısının faktöriyeli 120\n"
     ]
    }
   ],
   "source": [
    "def faktoriyel(sayi): \n",
    "    sonuc = 1\n",
    "    for i in range(1,sayi + 1):\n",
    "        sonuc = sonuc * i \n",
    "    print(\"{} sayısının faktöriyeli {}\".format(sayi,sonuc))\n",
    "\n",
    "sayi = int(input(\"Bir sayı giriniz: \"))\n",
    "faktoriyel(sayi)"
   ]
  },
  {
   "cell_type": "markdown",
   "metadata": {},
   "source": [
    "#### Ödev 3\n",
    "Kişinin fonksiyona doğum yılını vererek kaç yaşında olduğunu hesaplayan bir fonksiyon oluşturun. "
   ]
  },
  {
   "cell_type": "code",
   "execution_count": 5,
   "metadata": {},
   "outputs": [
    {
     "name": "stdout",
     "output_type": "stream",
     "text": [
      "Yaşınız: 25 \n"
     ]
    }
   ],
   "source": [
    "def yas_bulma(dogum_yili, yil):\n",
    "    yas = yil - dogum_yili\n",
    "    print(f\"Yaşınız: {yas} \")\n",
    "\n",
    "dogum_yili = int(input(\"Doğum yılınızı giriniz: \"))\n",
    "yil = int(input(\"Bulunduğunuz yılı giriniz: \"))\n",
    "yas_bulma(dogum_yili, yil)"
   ]
  },
  {
   "cell_type": "markdown",
   "metadata": {},
   "source": [
    "#### Ödev 4\n",
    "\n",
    "Doğum yılı ve isim bilgisi verilen fonksiyon kişinin emekli olup olmadığını söylesin.(Kişi 65 yaşında ise emekli olur.) Burada yaş hesabını yukarıdaki örnekteki fonksiyonu kullanarak yapsın.(Yani fonksiyon içinde fonksiyon kullanmanızı istiyorum :)) Kişi 65 yaşında ya da daha fazlaysa \"Emekli oldunuz\" yanıtını, 65 yaşından küçükse emekliliğine kaç yıl kaldığını da hesaplayarak \"(isim) emekliliğine (yıl) kaldı.\" yanıtını versin."
   ]
  },
  {
   "cell_type": "code",
   "execution_count": 10,
   "metadata": {},
   "outputs": [
    {
     "name": "stdout",
     "output_type": "stream",
     "text": [
      "Zülal emekliliğine 40 yıl kaldı.\n"
     ]
    }
   ],
   "source": [
    "def emelilik_hesabi(dogum_yili, yil, isim):\n",
    "    def yas_bulma(dogum_yili, yil):\n",
    "        return yil - dogum_yili \n",
    "    yas = yas_bulma(dogum_yili, yil)\n",
    "    if yas >= 65:\n",
    "        print(f\"Emekli oldunuz!\")\n",
    "    elif yas < 65:\n",
    "        kalan_yil = 65 - yas\n",
    "        print(f\"{isim} emekliliğine {kalan_yil} yıl kaldı.\")\n",
    "\n",
    "\n",
    "\n",
    "isim = input(\"İsminizi giriniz: \")\n",
    "dogum_yili = int(input(\"Doğum yılınızı giriniz: \"))\n",
    "yil = int(input(\"Bulunduğunuz yılı giriniz: \"))\n",
    "\n",
    "emelilik_hesabi(dogum_yili, yil, isim)"
   ]
  }
 ],
 "metadata": {
  "kernelspec": {
   "display_name": "base",
   "language": "python",
   "name": "python3"
  },
  "language_info": {
   "codemirror_mode": {
    "name": "ipython",
    "version": 3
   },
   "file_extension": ".py",
   "mimetype": "text/x-python",
   "name": "python",
   "nbconvert_exporter": "python",
   "pygments_lexer": "ipython3",
   "version": "3.11.3"
  }
 },
 "nbformat": 4,
 "nbformat_minor": 2
}
